{
 "cells": [
  {
   "cell_type": "code",
   "execution_count": 35,
   "id": "94af8866",
   "metadata": {},
   "outputs": [
    {
     "name": "stdout",
     "output_type": "stream",
     "text": [
      "Defaulting to user installation because normal site-packages is not writeable\n",
      "Requirement already satisfied: scikit-learn in /Users/owen/Library/Python/3.9/lib/python/site-packages (1.6.1)\n",
      "Requirement already satisfied: threadpoolctl>=3.1.0 in /Users/owen/Library/Python/3.9/lib/python/site-packages (from scikit-learn) (3.6.0)\n",
      "Requirement already satisfied: numpy>=1.19.5 in /Users/owen/Library/Python/3.9/lib/python/site-packages (from scikit-learn) (2.0.2)\n",
      "Requirement already satisfied: scipy>=1.6.0 in /Users/owen/Library/Python/3.9/lib/python/site-packages (from scikit-learn) (1.13.1)\n",
      "Requirement already satisfied: joblib>=1.2.0 in /Users/owen/Library/Python/3.9/lib/python/site-packages (from scikit-learn) (1.5.1)\n",
      "\u001b[33mWARNING: You are using pip version 21.2.4; however, version 25.1.1 is available.\n",
      "You should consider upgrading via the '/Applications/Xcode.app/Contents/Developer/usr/bin/python3 -m pip install --upgrade pip' command.\u001b[0m\n",
      "Note: you may need to restart the kernel to use updated packages.\n"
     ]
    }
   ],
   "source": [
    "%pip install scikit-learn\n",
    "import json\n",
    "import pandas as pd\n",
    "from sklearn.linear_model import LinearRegression\n",
    "from sklearn.model_selection import train_test_split\n",
    "from sklearn.metrics import mean_squared_error, r2_score\n",
    "\n",
    "# Load training data\n",
    "with open('training_set.json', 'r') as f:\n",
    "  data = json.load(f)\n",
    "\n",
    "df = pd.DataFrame(data)\n",
    "\n",
    "# features \n",
    "X = df.drop(columns=['goals_conceded', 'bonus', 'saves'])"
   ]
  },
  {
   "cell_type": "markdown",
   "id": "5c5afa11",
   "metadata": {},
   "source": [
    "# SAVES"
   ]
  },
  {
   "cell_type": "code",
   "execution_count": 36,
   "id": "cc80fbae",
   "metadata": {},
   "outputs": [
    {
     "name": "stdout",
     "output_type": "stream",
     "text": [
      "Train set size: 465\n",
      "Test set size: 117\n",
      "Test MSE: 2.608\n",
      "Test R^2: 0.277\n"
     ]
    }
   ],
   "source": [
    "y = df['saves']\n",
    "\n",
    "# Split data into train/test sets\n",
    "X_train, X_test, y_train, y_test = train_test_split(X, y, test_size=0.2, random_state=42)\n",
    "\n",
    "print(f\"Train set size: {X_train.shape[0]}\")\n",
    "print(f\"Test set size: {X_test.shape[0]}\")\n",
    "\n",
    "# Train model on training set\n",
    "saves_model = LinearRegression()\n",
    "saves_model.fit(X_train, y_train)\n",
    "\n",
    "# Predict on test set\n",
    "y_pred = saves_model.predict(X_test)\n",
    "\n",
    "# Evaluate model\n",
    "mse = mean_squared_error(y_test, y_pred)\n",
    "r2 = r2_score(y_test, y_pred)\n",
    "\n",
    "print(f\"Test MSE: {mse:.3f}\")\n",
    "print(f\"Test R^2: {r2:.3f}\")"
   ]
  },
  {
   "cell_type": "markdown",
   "id": "80ecb0eb",
   "metadata": {},
   "source": [
    "# GOALS CONCEDED"
   ]
  },
  {
   "cell_type": "code",
   "execution_count": 37,
   "id": "451a71e7",
   "metadata": {},
   "outputs": [
    {
     "name": "stdout",
     "output_type": "stream",
     "text": [
      "Train set size: 465\n",
      "Test set size: 117\n",
      "Test MSE: 0.781\n",
      "Test R^2: 0.284\n"
     ]
    }
   ],
   "source": [
    "X = df.drop(columns=['goals_conceded', 'bonus', 'saves'])\n",
    "y = df['goals_conceded']\n",
    "\n",
    "# Split data into train/test sets\n",
    "X_train, X_test, y_train, y_test = train_test_split(X, y, test_size=0.2, random_state=42)\n",
    "\n",
    "print(f\"Train set size: {X_train.shape[0]}\")\n",
    "print(f\"Test set size: {X_test.shape[0]}\")\n",
    "\n",
    "# Train model on training set\n",
    "goals_model = LinearRegression()\n",
    "goals_model.fit(X_train, y_train)\n",
    "\n",
    "# Predict on test set\n",
    "y_pred = goals_model.predict(X_test)\n",
    "\n",
    "# Evaluate model\n",
    "mse = mean_squared_error(y_test, y_pred)\n",
    "r2 = r2_score(y_test, y_pred)\n",
    "\n",
    "print(f\"Test MSE: {mse:.3f}\")\n",
    "print(f\"Test R^2: {r2:.3f}\")"
   ]
  },
  {
   "cell_type": "markdown",
   "id": "e6ea7f87",
   "metadata": {},
   "source": [
    "# EVALUATE"
   ]
  },
  {
   "cell_type": "code",
   "execution_count": 38,
   "id": "d1b0a3d0",
   "metadata": {},
   "outputs": [
    {
     "data": {
      "application/vnd.microsoft.datawrangler.viewer.v0+json": {
       "columns": [
        {
         "name": "index",
         "rawType": "int64",
         "type": "integer"
        },
        {
         "name": "actual_goals_conceded",
         "rawType": "int64",
         "type": "integer"
        },
        {
         "name": "predicted_goals_conceded",
         "rawType": "float64",
         "type": "float"
        },
        {
         "name": "actual_saves",
         "rawType": "int64",
         "type": "integer"
        },
        {
         "name": "predicted_saves",
         "rawType": "float64",
         "type": "float"
        }
       ],
       "ref": "cd6182f8-0dfa-4a07-a292-9303d14571a1",
       "rows": [
        [
         "577",
         "2",
         "1.811316941294843",
         "2",
         "3.1459049690050205"
        ],
        [
         "280",
         "1",
         "0.8471264688469827",
         "2",
         "2.0068883596374736"
        ],
        [
         "104",
         "2",
         "1.9917525246135486",
         "6",
         "4.22284713638847"
        ],
        [
         "447",
         "0",
         "0.46328135329656517",
         "1",
         "1.0879813104903961"
        ],
        [
         "434",
         "0",
         "0.4106520483138456",
         "2",
         "2.0136355444746137"
        ],
        [
         "291",
         "1",
         "0.9317155566706552",
         "3",
         "2.4224214737196443"
        ],
        [
         "405",
         "1",
         "1.4246291856871345",
         "5",
         "2.7571807020656705"
        ],
        [
         "182",
         "1",
         "1.3659705351818445",
         "1",
         "2.5876220593120345"
        ],
        [
         "353",
         "3",
         "2.0116768632802633",
         "9",
         "3.7451226154692576"
        ],
        [
         "368",
         "1",
         "0.8714331039570951",
         "3",
         "1.9280713615540988"
        ],
        [
         "540",
         "1",
         "0.9786965851462099",
         "1",
         "1.9701896115754087"
        ],
        [
         "259",
         "1",
         "0.5599789161653564",
         "2",
         "2.1910280273266216"
        ],
        [
         "131",
         "1",
         "2.2781946467438363",
         "5",
         "3.151866675426545"
        ],
        [
         "356",
         "2",
         "2.512059564941846",
         "2",
         "3.3124888771540792"
        ],
        [
         "489",
         "3",
         "1.1533966932558846",
         "5",
         "3.1223347617228825"
        ],
        [
         "110",
         "2",
         "3.3163390608819374",
         "6",
         "5.708461998549243"
        ],
        [
         "452",
         "2",
         "1.5097571300931076",
         "5",
         "3.51950304424711"
        ],
        [
         "255",
         "1",
         "0.9533666643334873",
         "4",
         "1.9850769572073892"
        ],
        [
         "86",
         "2",
         "0.7230770642502261",
         "2",
         "2.554679588192567"
        ],
        [
         "420",
         "1",
         "1.2215205445873467",
         "5",
         "1.9101228297126571"
        ],
        [
         "289",
         "1",
         "1.516167066444435",
         "4",
         "2.970876168952254"
        ],
        [
         "101",
         "1",
         "1.426764862678782",
         "2",
         "2.33510857272935"
        ],
        [
         "2",
         "2",
         "1.9248080651015491",
         "2",
         "3.507692361821407"
        ],
        [
         "553",
         "0",
         "0.45660567399872765",
         "0",
         "1.2179192507972585"
        ],
        [
         "70",
         "2",
         "0.5926822883627927",
         "1",
         "1.8348842482694976"
        ],
        [
         "153",
         "4",
         "1.9712145142013908",
         "4",
         "3.972235236323563"
        ],
        [
         "55",
         "1",
         "2.0977958950345275",
         "2",
         "3.6097445106702826"
        ],
        [
         "63",
         "0",
         "0.7028807101334423",
         "1",
         "1.5589664077764622"
        ],
        [
         "380",
         "1",
         "0.7049638008452614",
         "2",
         "1.8046128489353337"
        ],
        [
         "29",
         "2",
         "0.9372541886939858",
         "0",
         "2.503120250478568"
        ],
        [
         "145",
         "0",
         "0.6182033119235248",
         "1",
         "1.8612952351530045"
        ],
        [
         "90",
         "1",
         "1.8578493553196385",
         "3",
         "2.411897489238666"
        ],
        [
         "82",
         "2",
         "2.520058681801619",
         "2",
         "4.023667294248044"
        ],
        [
         "245",
         "0",
         "0.7535322801939972",
         "5",
         "1.8328870852943848"
        ],
        [
         "81",
         "1",
         "2.1132415407509577",
         "5",
         "2.8685932245164287"
        ],
        [
         "316",
         "4",
         "2.348600938514495",
         "2",
         "4.331083385884685"
        ],
        [
         "486",
         "3",
         "2.9368734338706766",
         "6",
         "5.144998814804538"
        ],
        [
         "549",
         "1",
         "1.6769962664653193",
         "4",
         "3.2491861719044275"
        ],
        [
         "449",
         "3",
         "1.4334079257988281",
         "3",
         "3.257589919519317"
        ],
        [
         "545",
         "0",
         "1.217142487920573",
         "4",
         "2.741831255834711"
        ],
        [
         "244",
         "1",
         "1.7605046950237222",
         "3",
         "3.2443323726099162"
        ],
        [
         "208",
         "0",
         "1.5904366447087226",
         "7",
         "2.9328281677554835"
        ],
        [
         "220",
         "0",
         "1.6876464451337105",
         "3",
         "3.397787641003447"
        ],
        [
         "10",
         "0",
         "0.20763887405889103",
         "0",
         "1.619636489429369"
        ],
        [
         "422",
         "1",
         "1.3379380893796295",
         "4",
         "2.429578794890144"
        ],
        [
         "570",
         "2",
         "1.5331442908312205",
         "1",
         "3.478176452704629"
        ],
        [
         "6",
         "0",
         "0.3236690089321069",
         "0",
         "2.013361323785159"
        ],
        [
         "546",
         "0",
         "1.9934403318700138",
         "2",
         "3.726380806240891"
        ],
        [
         "341",
         "0",
         "1.3600244285996452",
         "4",
         "2.9515350592061136"
        ],
        [
         "165",
         "1",
         "1.1199579197097216",
         "0",
         "3.25697889047873"
        ]
       ],
       "shape": {
        "columns": 4,
        "rows": 117
       }
      },
      "text/html": [
       "<div>\n",
       "<style scoped>\n",
       "    .dataframe tbody tr th:only-of-type {\n",
       "        vertical-align: middle;\n",
       "    }\n",
       "\n",
       "    .dataframe tbody tr th {\n",
       "        vertical-align: top;\n",
       "    }\n",
       "\n",
       "    .dataframe thead th {\n",
       "        text-align: right;\n",
       "    }\n",
       "</style>\n",
       "<table border=\"1\" class=\"dataframe\">\n",
       "  <thead>\n",
       "    <tr style=\"text-align: right;\">\n",
       "      <th></th>\n",
       "      <th>actual_goals_conceded</th>\n",
       "      <th>predicted_goals_conceded</th>\n",
       "      <th>actual_saves</th>\n",
       "      <th>predicted_saves</th>\n",
       "    </tr>\n",
       "  </thead>\n",
       "  <tbody>\n",
       "    <tr>\n",
       "      <th>577</th>\n",
       "      <td>2</td>\n",
       "      <td>1.811317</td>\n",
       "      <td>2</td>\n",
       "      <td>3.145905</td>\n",
       "    </tr>\n",
       "    <tr>\n",
       "      <th>280</th>\n",
       "      <td>1</td>\n",
       "      <td>0.847126</td>\n",
       "      <td>2</td>\n",
       "      <td>2.006888</td>\n",
       "    </tr>\n",
       "    <tr>\n",
       "      <th>104</th>\n",
       "      <td>2</td>\n",
       "      <td>1.991753</td>\n",
       "      <td>6</td>\n",
       "      <td>4.222847</td>\n",
       "    </tr>\n",
       "    <tr>\n",
       "      <th>447</th>\n",
       "      <td>0</td>\n",
       "      <td>0.463281</td>\n",
       "      <td>1</td>\n",
       "      <td>1.087981</td>\n",
       "    </tr>\n",
       "    <tr>\n",
       "      <th>434</th>\n",
       "      <td>0</td>\n",
       "      <td>0.410652</td>\n",
       "      <td>2</td>\n",
       "      <td>2.013636</td>\n",
       "    </tr>\n",
       "    <tr>\n",
       "      <th>...</th>\n",
       "      <td>...</td>\n",
       "      <td>...</td>\n",
       "      <td>...</td>\n",
       "      <td>...</td>\n",
       "    </tr>\n",
       "    <tr>\n",
       "      <th>312</th>\n",
       "      <td>3</td>\n",
       "      <td>2.257535</td>\n",
       "      <td>2</td>\n",
       "      <td>2.734758</td>\n",
       "    </tr>\n",
       "    <tr>\n",
       "      <th>544</th>\n",
       "      <td>3</td>\n",
       "      <td>2.434959</td>\n",
       "      <td>3</td>\n",
       "      <td>4.308601</td>\n",
       "    </tr>\n",
       "    <tr>\n",
       "      <th>227</th>\n",
       "      <td>0</td>\n",
       "      <td>0.924328</td>\n",
       "      <td>2</td>\n",
       "      <td>1.504523</td>\n",
       "    </tr>\n",
       "    <tr>\n",
       "      <th>468</th>\n",
       "      <td>2</td>\n",
       "      <td>2.939009</td>\n",
       "      <td>6</td>\n",
       "      <td>4.714969</td>\n",
       "    </tr>\n",
       "    <tr>\n",
       "      <th>77</th>\n",
       "      <td>0</td>\n",
       "      <td>0.536365</td>\n",
       "      <td>0</td>\n",
       "      <td>0.648488</td>\n",
       "    </tr>\n",
       "  </tbody>\n",
       "</table>\n",
       "<p>117 rows × 4 columns</p>\n",
       "</div>"
      ],
      "text/plain": [
       "     actual_goals_conceded  predicted_goals_conceded  actual_saves  \\\n",
       "577                      2                  1.811317             2   \n",
       "280                      1                  0.847126             2   \n",
       "104                      2                  1.991753             6   \n",
       "447                      0                  0.463281             1   \n",
       "434                      0                  0.410652             2   \n",
       "..                     ...                       ...           ...   \n",
       "312                      3                  2.257535             2   \n",
       "544                      3                  2.434959             3   \n",
       "227                      0                  0.924328             2   \n",
       "468                      2                  2.939009             6   \n",
       "77                       0                  0.536365             0   \n",
       "\n",
       "     predicted_saves  \n",
       "577         3.145905  \n",
       "280         2.006888  \n",
       "104         4.222847  \n",
       "447         1.087981  \n",
       "434         2.013636  \n",
       "..               ...  \n",
       "312         2.734758  \n",
       "544         4.308601  \n",
       "227         1.504523  \n",
       "468         4.714969  \n",
       "77          0.648488  \n",
       "\n",
       "[117 rows x 4 columns]"
      ]
     },
     "execution_count": 38,
     "metadata": {},
     "output_type": "execute_result"
    }
   ],
   "source": [
    "# Get the indices of the test set\n",
    "test_indices = y_test.index\n",
    "\n",
    "# Prepare a DataFrame with actual and predicted values for each target\n",
    "results_df = pd.DataFrame({\n",
    "  'actual_goals_conceded': df.loc[test_indices, 'goals_conceded'].values,\n",
    "  'predicted_goals_conceded': goals_model.predict(X_test),\n",
    "  'actual_saves': df.loc[test_indices, 'saves'].values,\n",
    "  'predicted_saves': saves_model.predict(X_test)\n",
    "}, index=test_indices)\n",
    "\n",
    "# Show the table\n",
    "results_df.head(len(test_indices.tolist()))"
   ]
  }
 ],
 "metadata": {
  "kernelspec": {
   "display_name": "Python 3",
   "language": "python",
   "name": "python3"
  },
  "language_info": {
   "codemirror_mode": {
    "name": "ipython",
    "version": 3
   },
   "file_extension": ".py",
   "mimetype": "text/x-python",
   "name": "python",
   "nbconvert_exporter": "python",
   "pygments_lexer": "ipython3",
   "version": "3.9.6"
  }
 },
 "nbformat": 4,
 "nbformat_minor": 5
}
